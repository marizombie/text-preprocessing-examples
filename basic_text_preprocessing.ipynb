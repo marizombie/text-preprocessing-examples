{
 "cells": [
  {
   "cell_type": "code",
   "execution_count": 1,
   "id": "31b797a6",
   "metadata": {
    "ExecuteTime": {
     "end_time": "2022-07-27T10:43:34.417766Z",
     "start_time": "2022-07-27T10:43:32.004456Z"
    }
   },
   "outputs": [],
   "source": [
    "import pandas as pd"
   ]
  },
  {
   "cell_type": "code",
   "execution_count": 2,
   "id": "84f6d9b1",
   "metadata": {
    "ExecuteTime": {
     "end_time": "2022-07-27T10:43:34.651381Z",
     "start_time": "2022-07-27T10:43:34.443011Z"
    }
   },
   "outputs": [
    {
     "data": {
      "text/html": [
       "<div>\n",
       "<style scoped>\n",
       "    .dataframe tbody tr th:only-of-type {\n",
       "        vertical-align: middle;\n",
       "    }\n",
       "\n",
       "    .dataframe tbody tr th {\n",
       "        vertical-align: top;\n",
       "    }\n",
       "\n",
       "    .dataframe thead th {\n",
       "        text-align: right;\n",
       "    }\n",
       "</style>\n",
       "<table border=\"1\" class=\"dataframe\">\n",
       "  <thead>\n",
       "    <tr style=\"text-align: right;\">\n",
       "      <th></th>\n",
       "      <th>ID</th>\n",
       "      <th>Joke</th>\n",
       "    </tr>\n",
       "  </thead>\n",
       "  <tbody>\n",
       "    <tr>\n",
       "      <th>0</th>\n",
       "      <td>1</td>\n",
       "      <td>What did the bartender say to the jumper cable...</td>\n",
       "    </tr>\n",
       "    <tr>\n",
       "      <th>1</th>\n",
       "      <td>2</td>\n",
       "      <td>Don't you hate jokes about German sausage? The...</td>\n",
       "    </tr>\n",
       "    <tr>\n",
       "      <th>2</th>\n",
       "      <td>3</td>\n",
       "      <td>Two artists had an art contest... It ended in ...</td>\n",
       "    </tr>\n",
       "    <tr>\n",
       "      <th>3</th>\n",
       "      <td>4</td>\n",
       "      <td>Why did the chicken cross the playground? To g...</td>\n",
       "    </tr>\n",
       "    <tr>\n",
       "      <th>4</th>\n",
       "      <td>5</td>\n",
       "      <td>What gun do you use to hunt a moose? A moosecut!</td>\n",
       "    </tr>\n",
       "  </tbody>\n",
       "</table>\n",
       "</div>"
      ],
      "text/plain": [
       "   ID                                               Joke\n",
       "0   1  What did the bartender say to the jumper cable...\n",
       "1   2  Don't you hate jokes about German sausage? The...\n",
       "2   3  Two artists had an art contest... It ended in ...\n",
       "3   4  Why did the chicken cross the playground? To g...\n",
       "4   5   What gun do you use to hunt a moose? A moosecut!"
      ]
     },
     "execution_count": 2,
     "metadata": {},
     "output_type": "execute_result"
    }
   ],
   "source": [
    "df = pd.read_csv('~/datasets/reddit-cleanjokes.csv')\n",
    "df.head()"
   ]
  },
  {
   "cell_type": "markdown",
   "id": "806de8e4",
   "metadata": {},
   "source": [
    "### Dropping duplicates (not only for texts, just in case)"
   ]
  },
  {
   "cell_type": "code",
   "execution_count": 3,
   "id": "e3f199ea",
   "metadata": {
    "ExecuteTime": {
     "end_time": "2022-07-27T12:09:53.937312Z",
     "start_time": "2022-07-27T12:09:53.296496Z"
    }
   },
   "outputs": [
    {
     "data": {
      "text/html": [
       "<div>\n",
       "<style scoped>\n",
       "    .dataframe tbody tr th:only-of-type {\n",
       "        vertical-align: middle;\n",
       "    }\n",
       "\n",
       "    .dataframe tbody tr th {\n",
       "        vertical-align: top;\n",
       "    }\n",
       "\n",
       "    .dataframe thead th {\n",
       "        text-align: right;\n",
       "    }\n",
       "</style>\n",
       "<table border=\"1\" class=\"dataframe\">\n",
       "  <thead>\n",
       "    <tr style=\"text-align: right;\">\n",
       "      <th></th>\n",
       "      <th>ID</th>\n",
       "      <th>Joke</th>\n",
       "    </tr>\n",
       "  </thead>\n",
       "  <tbody>\n",
       "    <tr>\n",
       "      <th>0</th>\n",
       "      <td>1</td>\n",
       "      <td>What did the bartender say to the jumper cable...</td>\n",
       "    </tr>\n",
       "    <tr>\n",
       "      <th>1</th>\n",
       "      <td>2</td>\n",
       "      <td>Don't you hate jokes about German sausage? The...</td>\n",
       "    </tr>\n",
       "    <tr>\n",
       "      <th>2</th>\n",
       "      <td>3</td>\n",
       "      <td>Two artists had an art contest... It ended in ...</td>\n",
       "    </tr>\n",
       "    <tr>\n",
       "      <th>3</th>\n",
       "      <td>4</td>\n",
       "      <td>Why did the chicken cross the playground? To g...</td>\n",
       "    </tr>\n",
       "    <tr>\n",
       "      <th>4</th>\n",
       "      <td>5</td>\n",
       "      <td>What gun do you use to hunt a moose? A moosecut!</td>\n",
       "    </tr>\n",
       "    <tr>\n",
       "      <th>...</th>\n",
       "      <td>...</td>\n",
       "      <td>...</td>\n",
       "    </tr>\n",
       "    <tr>\n",
       "      <th>1617</th>\n",
       "      <td>1618</td>\n",
       "      <td>What do you call a camel with 3 humps? Humphre...</td>\n",
       "    </tr>\n",
       "    <tr>\n",
       "      <th>1618</th>\n",
       "      <td>1619</td>\n",
       "      <td>Two fish in a tank. [x-post from r/Jokes] One ...</td>\n",
       "    </tr>\n",
       "    <tr>\n",
       "      <th>1619</th>\n",
       "      <td>1620</td>\n",
       "      <td>\"Stay strong!\" I said to my wi-fi signal.</td>\n",
       "    </tr>\n",
       "    <tr>\n",
       "      <th>1620</th>\n",
       "      <td>1621</td>\n",
       "      <td>Why was the tomato blushing? Because it saw th...</td>\n",
       "    </tr>\n",
       "    <tr>\n",
       "      <th>1621</th>\n",
       "      <td>1622</td>\n",
       "      <td>What is heavy forward but not backward? **ton**</td>\n",
       "    </tr>\n",
       "  </tbody>\n",
       "</table>\n",
       "<p>1622 rows × 2 columns</p>\n",
       "</div>"
      ],
      "text/plain": [
       "        ID                                               Joke\n",
       "0        1  What did the bartender say to the jumper cable...\n",
       "1        2  Don't you hate jokes about German sausage? The...\n",
       "2        3  Two artists had an art contest... It ended in ...\n",
       "3        4  Why did the chicken cross the playground? To g...\n",
       "4        5   What gun do you use to hunt a moose? A moosecut!\n",
       "...    ...                                                ...\n",
       "1617  1618  What do you call a camel with 3 humps? Humphre...\n",
       "1618  1619  Two fish in a tank. [x-post from r/Jokes] One ...\n",
       "1619  1620          \"Stay strong!\" I said to my wi-fi signal.\n",
       "1620  1621  Why was the tomato blushing? Because it saw th...\n",
       "1621  1622    What is heavy forward but not backward? **ton**\n",
       "\n",
       "[1622 rows x 2 columns]"
      ]
     },
     "execution_count": 3,
     "metadata": {},
     "output_type": "execute_result"
    }
   ],
   "source": [
    "df.drop_duplicates()"
   ]
  },
  {
   "cell_type": "markdown",
   "id": "a0dd5447",
   "metadata": {},
   "source": [
    "### Lowercase"
   ]
  },
  {
   "cell_type": "code",
   "execution_count": 4,
   "id": "cef71c33",
   "metadata": {
    "ExecuteTime": {
     "end_time": "2022-07-27T12:10:45.257019Z",
     "start_time": "2022-07-27T12:10:45.164878Z"
    }
   },
   "outputs": [
    {
     "data": {
      "text/html": [
       "<div>\n",
       "<style scoped>\n",
       "    .dataframe tbody tr th:only-of-type {\n",
       "        vertical-align: middle;\n",
       "    }\n",
       "\n",
       "    .dataframe tbody tr th {\n",
       "        vertical-align: top;\n",
       "    }\n",
       "\n",
       "    .dataframe thead th {\n",
       "        text-align: right;\n",
       "    }\n",
       "</style>\n",
       "<table border=\"1\" class=\"dataframe\">\n",
       "  <thead>\n",
       "    <tr style=\"text-align: right;\">\n",
       "      <th></th>\n",
       "      <th>ID</th>\n",
       "      <th>Joke</th>\n",
       "    </tr>\n",
       "  </thead>\n",
       "  <tbody>\n",
       "    <tr>\n",
       "      <th>0</th>\n",
       "      <td>1</td>\n",
       "      <td>what did the bartender say to the jumper cable...</td>\n",
       "    </tr>\n",
       "    <tr>\n",
       "      <th>1</th>\n",
       "      <td>2</td>\n",
       "      <td>don't you hate jokes about german sausage? the...</td>\n",
       "    </tr>\n",
       "    <tr>\n",
       "      <th>2</th>\n",
       "      <td>3</td>\n",
       "      <td>two artists had an art contest... it ended in ...</td>\n",
       "    </tr>\n",
       "    <tr>\n",
       "      <th>3</th>\n",
       "      <td>4</td>\n",
       "      <td>why did the chicken cross the playground? to g...</td>\n",
       "    </tr>\n",
       "    <tr>\n",
       "      <th>4</th>\n",
       "      <td>5</td>\n",
       "      <td>what gun do you use to hunt a moose? a moosecut!</td>\n",
       "    </tr>\n",
       "  </tbody>\n",
       "</table>\n",
       "</div>"
      ],
      "text/plain": [
       "   ID                                               Joke\n",
       "0   1  what did the bartender say to the jumper cable...\n",
       "1   2  don't you hate jokes about german sausage? the...\n",
       "2   3  two artists had an art contest... it ended in ...\n",
       "3   4  why did the chicken cross the playground? to g...\n",
       "4   5   what gun do you use to hunt a moose? a moosecut!"
      ]
     },
     "execution_count": 4,
     "metadata": {},
     "output_type": "execute_result"
    }
   ],
   "source": [
    "df['Joke'] = df['Joke'].str.lower()\n",
    "df.head()"
   ]
  },
  {
   "cell_type": "markdown",
   "id": "a612eea3",
   "metadata": {},
   "source": [
    "### Dropping stop words"
   ]
  },
  {
   "cell_type": "code",
   "execution_count": 5,
   "id": "11ecf091",
   "metadata": {
    "ExecuteTime": {
     "end_time": "2022-07-27T12:11:15.431122Z",
     "start_time": "2022-07-27T12:11:09.852022Z"
    }
   },
   "outputs": [],
   "source": [
    "from nltk.corpus import stopwords"
   ]
  },
  {
   "cell_type": "code",
   "execution_count": 6,
   "id": "4988bbd0",
   "metadata": {
    "ExecuteTime": {
     "end_time": "2022-07-27T12:11:15.475415Z",
     "start_time": "2022-07-27T12:11:15.441852Z"
    }
   },
   "outputs": [],
   "source": [
    "stop_words = set(stopwords.words('english')) "
   ]
  },
  {
   "cell_type": "code",
   "execution_count": 7,
   "id": "43b25871",
   "metadata": {
    "ExecuteTime": {
     "end_time": "2022-07-27T12:11:23.146066Z",
     "start_time": "2022-07-27T12:11:23.124699Z"
    }
   },
   "outputs": [],
   "source": [
    "def drop_stopwords(s):\n",
    "    return ' '.join([i for i in s.split() if i not in stop_words])"
   ]
  },
  {
   "cell_type": "code",
   "execution_count": 8,
   "id": "a37bd5bb",
   "metadata": {
    "ExecuteTime": {
     "end_time": "2022-07-27T12:11:24.391449Z",
     "start_time": "2022-07-27T12:11:24.324335Z"
    }
   },
   "outputs": [
    {
     "data": {
      "text/html": [
       "<div>\n",
       "<style scoped>\n",
       "    .dataframe tbody tr th:only-of-type {\n",
       "        vertical-align: middle;\n",
       "    }\n",
       "\n",
       "    .dataframe tbody tr th {\n",
       "        vertical-align: top;\n",
       "    }\n",
       "\n",
       "    .dataframe thead th {\n",
       "        text-align: right;\n",
       "    }\n",
       "</style>\n",
       "<table border=\"1\" class=\"dataframe\">\n",
       "  <thead>\n",
       "    <tr style=\"text-align: right;\">\n",
       "      <th></th>\n",
       "      <th>ID</th>\n",
       "      <th>Joke</th>\n",
       "    </tr>\n",
       "  </thead>\n",
       "  <tbody>\n",
       "    <tr>\n",
       "      <th>0</th>\n",
       "      <td>1</td>\n",
       "      <td>bartender say jumper cables? better try start ...</td>\n",
       "    </tr>\n",
       "    <tr>\n",
       "      <th>1</th>\n",
       "      <td>2</td>\n",
       "      <td>hate jokes german sausage? they're wurst!</td>\n",
       "    </tr>\n",
       "    <tr>\n",
       "      <th>2</th>\n",
       "      <td>3</td>\n",
       "      <td>two artists art contest... ended draw</td>\n",
       "    </tr>\n",
       "    <tr>\n",
       "      <th>3</th>\n",
       "      <td>4</td>\n",
       "      <td>chicken cross playground? get slide.</td>\n",
       "    </tr>\n",
       "    <tr>\n",
       "      <th>4</th>\n",
       "      <td>5</td>\n",
       "      <td>gun use hunt moose? moosecut!</td>\n",
       "    </tr>\n",
       "  </tbody>\n",
       "</table>\n",
       "</div>"
      ],
      "text/plain": [
       "   ID                                               Joke\n",
       "0   1  bartender say jumper cables? better try start ...\n",
       "1   2          hate jokes german sausage? they're wurst!\n",
       "2   3              two artists art contest... ended draw\n",
       "3   4               chicken cross playground? get slide.\n",
       "4   5                      gun use hunt moose? moosecut!"
      ]
     },
     "execution_count": 8,
     "metadata": {},
     "output_type": "execute_result"
    }
   ],
   "source": [
    "df['Joke'] = df['Joke'].map(drop_stopwords)\n",
    "df.head()"
   ]
  },
  {
   "cell_type": "markdown",
   "id": "1f4bc33a",
   "metadata": {},
   "source": [
    "### Lemmatization"
   ]
  },
  {
   "cell_type": "code",
   "execution_count": 9,
   "id": "955a6281",
   "metadata": {
    "ExecuteTime": {
     "end_time": "2022-07-27T12:11:31.601517Z",
     "start_time": "2022-07-27T12:11:31.586229Z"
    }
   },
   "outputs": [],
   "source": [
    "from nltk.stem import WordNetLemmatizer "
   ]
  },
  {
   "cell_type": "code",
   "execution_count": 10,
   "id": "d0eeee69",
   "metadata": {
    "ExecuteTime": {
     "end_time": "2022-07-27T12:11:33.575052Z",
     "start_time": "2022-07-27T12:11:33.564163Z"
    }
   },
   "outputs": [],
   "source": [
    "lemmatizer = WordNetLemmatizer()"
   ]
  },
  {
   "cell_type": "code",
   "execution_count": 12,
   "id": "d1131055",
   "metadata": {
    "ExecuteTime": {
     "end_time": "2022-07-27T12:11:41.278600Z",
     "start_time": "2022-07-27T12:11:41.262724Z"
    }
   },
   "outputs": [],
   "source": [
    "def lemmatize_str(s):\n",
    "    return ' '.join([lemmatizer.lemmatize(i) for i in s.split()])"
   ]
  },
  {
   "cell_type": "code",
   "execution_count": 13,
   "id": "1d5b1bde",
   "metadata": {
    "ExecuteTime": {
     "end_time": "2022-07-27T12:11:54.778725Z",
     "start_time": "2022-07-27T12:11:44.786229Z"
    }
   },
   "outputs": [
    {
     "data": {
      "text/html": [
       "<div>\n",
       "<style scoped>\n",
       "    .dataframe tbody tr th:only-of-type {\n",
       "        vertical-align: middle;\n",
       "    }\n",
       "\n",
       "    .dataframe tbody tr th {\n",
       "        vertical-align: top;\n",
       "    }\n",
       "\n",
       "    .dataframe thead th {\n",
       "        text-align: right;\n",
       "    }\n",
       "</style>\n",
       "<table border=\"1\" class=\"dataframe\">\n",
       "  <thead>\n",
       "    <tr style=\"text-align: right;\">\n",
       "      <th></th>\n",
       "      <th>ID</th>\n",
       "      <th>Joke</th>\n",
       "    </tr>\n",
       "  </thead>\n",
       "  <tbody>\n",
       "    <tr>\n",
       "      <th>0</th>\n",
       "      <td>1</td>\n",
       "      <td>bartender say jumper cables? better try start ...</td>\n",
       "    </tr>\n",
       "    <tr>\n",
       "      <th>1</th>\n",
       "      <td>2</td>\n",
       "      <td>hate joke german sausage? they're wurst!</td>\n",
       "    </tr>\n",
       "    <tr>\n",
       "      <th>2</th>\n",
       "      <td>3</td>\n",
       "      <td>two artist art contest... ended draw</td>\n",
       "    </tr>\n",
       "    <tr>\n",
       "      <th>3</th>\n",
       "      <td>4</td>\n",
       "      <td>chicken cross playground? get slide.</td>\n",
       "    </tr>\n",
       "    <tr>\n",
       "      <th>4</th>\n",
       "      <td>5</td>\n",
       "      <td>gun use hunt moose? moosecut!</td>\n",
       "    </tr>\n",
       "  </tbody>\n",
       "</table>\n",
       "</div>"
      ],
      "text/plain": [
       "   ID                                               Joke\n",
       "0   1  bartender say jumper cables? better try start ...\n",
       "1   2           hate joke german sausage? they're wurst!\n",
       "2   3               two artist art contest... ended draw\n",
       "3   4               chicken cross playground? get slide.\n",
       "4   5                      gun use hunt moose? moosecut!"
      ]
     },
     "execution_count": 13,
     "metadata": {},
     "output_type": "execute_result"
    }
   ],
   "source": [
    "df['Joke'] = df['Joke'].map(lemmatize_str)\n",
    "df.head()"
   ]
  },
  {
   "cell_type": "markdown",
   "id": "53a89849",
   "metadata": {},
   "source": [
    "### Stemming"
   ]
  },
  {
   "cell_type": "code",
   "execution_count": 32,
   "id": "2dbdf041",
   "metadata": {
    "ExecuteTime": {
     "end_time": "2022-07-27T10:37:17.470550Z",
     "start_time": "2022-07-27T10:37:17.457036Z"
    }
   },
   "outputs": [],
   "source": [
    "from nltk.stem.snowball import SnowballStemmer"
   ]
  },
  {
   "cell_type": "code",
   "execution_count": 33,
   "id": "8f4be57a",
   "metadata": {
    "ExecuteTime": {
     "end_time": "2022-07-27T10:37:44.192474Z",
     "start_time": "2022-07-27T10:37:44.179599Z"
    }
   },
   "outputs": [],
   "source": [
    "stemmer = SnowballStemmer(\"english\")"
   ]
  },
  {
   "cell_type": "code",
   "execution_count": 36,
   "id": "55c9324d",
   "metadata": {
    "ExecuteTime": {
     "end_time": "2022-07-27T10:39:04.643286Z",
     "start_time": "2022-07-27T10:39:04.628292Z"
    }
   },
   "outputs": [],
   "source": [
    "def stem_str(s):\n",
    "    return ' '.join([stemmer.stem(i) for i in s.split()])"
   ]
  },
  {
   "cell_type": "code",
   "execution_count": 37,
   "id": "73013d8f",
   "metadata": {
    "ExecuteTime": {
     "end_time": "2022-07-27T10:39:08.112229Z",
     "start_time": "2022-07-27T10:39:07.456484Z"
    }
   },
   "outputs": [
    {
     "data": {
      "text/html": [
       "<div>\n",
       "<style scoped>\n",
       "    .dataframe tbody tr th:only-of-type {\n",
       "        vertical-align: middle;\n",
       "    }\n",
       "\n",
       "    .dataframe tbody tr th {\n",
       "        vertical-align: top;\n",
       "    }\n",
       "\n",
       "    .dataframe thead th {\n",
       "        text-align: right;\n",
       "    }\n",
       "</style>\n",
       "<table border=\"1\" class=\"dataframe\">\n",
       "  <thead>\n",
       "    <tr style=\"text-align: right;\">\n",
       "      <th></th>\n",
       "      <th>ID</th>\n",
       "      <th>Joke</th>\n",
       "    </tr>\n",
       "  </thead>\n",
       "  <tbody>\n",
       "    <tr>\n",
       "      <th>0</th>\n",
       "      <td>1</td>\n",
       "      <td>bartend say jumper cables? better tri start an...</td>\n",
       "    </tr>\n",
       "    <tr>\n",
       "      <th>1</th>\n",
       "      <td>2</td>\n",
       "      <td>hate joke german sausage? they'r wurst!</td>\n",
       "    </tr>\n",
       "    <tr>\n",
       "      <th>2</th>\n",
       "      <td>3</td>\n",
       "      <td>two artist art contest... end draw</td>\n",
       "    </tr>\n",
       "    <tr>\n",
       "      <th>3</th>\n",
       "      <td>4</td>\n",
       "      <td>chicken cross playground? get slide.</td>\n",
       "    </tr>\n",
       "    <tr>\n",
       "      <th>4</th>\n",
       "      <td>5</td>\n",
       "      <td>gun use hunt moose? moosecut!</td>\n",
       "    </tr>\n",
       "  </tbody>\n",
       "</table>\n",
       "</div>"
      ],
      "text/plain": [
       "   ID                                               Joke\n",
       "0   1  bartend say jumper cables? better tri start an...\n",
       "1   2            hate joke german sausage? they'r wurst!\n",
       "2   3                 two artist art contest... end draw\n",
       "3   4               chicken cross playground? get slide.\n",
       "4   5                      gun use hunt moose? moosecut!"
      ]
     },
     "execution_count": 37,
     "metadata": {},
     "output_type": "execute_result"
    }
   ],
   "source": [
    "df['Joke'] = df['Joke'].map(stem_str)\n",
    "df.head()"
   ]
  },
  {
   "cell_type": "markdown",
   "id": "c95ef7a3",
   "metadata": {},
   "source": [
    "### Conclusion"
   ]
  },
  {
   "cell_type": "markdown",
   "id": "e8b84de1",
   "metadata": {},
   "source": [
    "These were only some examples of how you can preprocess and clean your data. I have shown them separately, but for better performance and cleaner code you should unite all needed operations into one method and map dataframe rows to it instead.\n",
    "Good luck!"
   ]
  },
  {
   "cell_type": "code",
   "execution_count": null,
   "id": "dab72664",
   "metadata": {},
   "outputs": [],
   "source": []
  }
 ],
 "metadata": {
  "kernelspec": {
   "display_name": "Python 3 (ipykernel)",
   "language": "python",
   "name": "python3"
  },
  "language_info": {
   "codemirror_mode": {
    "name": "ipython",
    "version": 3
   },
   "file_extension": ".py",
   "mimetype": "text/x-python",
   "name": "python",
   "nbconvert_exporter": "python",
   "pygments_lexer": "ipython3",
   "version": "3.7.11"
  }
 },
 "nbformat": 4,
 "nbformat_minor": 5
}
