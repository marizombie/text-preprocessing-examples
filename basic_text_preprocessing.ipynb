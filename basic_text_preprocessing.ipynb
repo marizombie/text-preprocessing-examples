{
 "cells": [
  {
   "cell_type": "code",
   "execution_count": 1,
   "id": "304879ff",
   "metadata": {
    "ExecuteTime": {
     "end_time": "2022-07-27T12:54:30.791300Z",
     "start_time": "2022-07-27T12:54:29.665699Z"
    }
   },
   "outputs": [],
   "source": [
    "import pandas as pd"
   ]
  },
  {
   "cell_type": "code",
   "execution_count": 2,
   "id": "c9e25fea",
   "metadata": {
    "ExecuteTime": {
     "end_time": "2022-07-27T12:54:30.931377Z",
     "start_time": "2022-07-27T12:54:30.803198Z"
    }
   },
   "outputs": [
    {
     "data": {
      "text/html": [
       "<div>\n",
       "<style scoped>\n",
       "    .dataframe tbody tr th:only-of-type {\n",
       "        vertical-align: middle;\n",
       "    }\n",
       "\n",
       "    .dataframe tbody tr th {\n",
       "        vertical-align: top;\n",
       "    }\n",
       "\n",
       "    .dataframe thead th {\n",
       "        text-align: right;\n",
       "    }\n",
       "</style>\n",
       "<table border=\"1\" class=\"dataframe\">\n",
       "  <thead>\n",
       "    <tr style=\"text-align: right;\">\n",
       "      <th></th>\n",
       "      <th>ID</th>\n",
       "      <th>Joke</th>\n",
       "    </tr>\n",
       "  </thead>\n",
       "  <tbody>\n",
       "    <tr>\n",
       "      <th>0</th>\n",
       "      <td>1</td>\n",
       "      <td>What did the bartender say to the jumper cable...</td>\n",
       "    </tr>\n",
       "    <tr>\n",
       "      <th>1</th>\n",
       "      <td>2</td>\n",
       "      <td>Don't you hate jokes about German sausage? The...</td>\n",
       "    </tr>\n",
       "    <tr>\n",
       "      <th>2</th>\n",
       "      <td>3</td>\n",
       "      <td>Two artists had an art contest... It ended in ...</td>\n",
       "    </tr>\n",
       "    <tr>\n",
       "      <th>3</th>\n",
       "      <td>4</td>\n",
       "      <td>Why did the chicken cross the playground? To g...</td>\n",
       "    </tr>\n",
       "    <tr>\n",
       "      <th>4</th>\n",
       "      <td>5</td>\n",
       "      <td>What gun do you use to hunt a moose? A moosecut!</td>\n",
       "    </tr>\n",
       "  </tbody>\n",
       "</table>\n",
       "</div>"
      ],
      "text/plain": [
       "   ID                                               Joke\n",
       "0   1  What did the bartender say to the jumper cable...\n",
       "1   2  Don't you hate jokes about German sausage? The...\n",
       "2   3  Two artists had an art contest... It ended in ...\n",
       "3   4  Why did the chicken cross the playground? To g...\n",
       "4   5   What gun do you use to hunt a moose? A moosecut!"
      ]
     },
     "execution_count": 2,
     "metadata": {},
     "output_type": "execute_result"
    }
   ],
   "source": [
    "df = pd.read_csv('reddit-cleanjokes.csv')\n",
    "df.head()"
   ]
  },
  {
   "cell_type": "markdown",
   "id": "8aa7dcef",
   "metadata": {},
   "source": [
    "### Dropping duplicates (not only for texts, just in case)"
   ]
  },
  {
   "cell_type": "markdown",
   "id": "d019b2b8",
   "metadata": {},
   "source": [
    "Sometimes datasets can contain duplicated rows. Just in case you want to check it - use basic pandas operation."
   ]
  },
  {
   "cell_type": "code",
   "execution_count": 3,
   "id": "f8c4ede0",
   "metadata": {
    "ExecuteTime": {
     "end_time": "2022-07-27T12:54:31.424759Z",
     "start_time": "2022-07-27T12:54:31.348831Z"
    }
   },
   "outputs": [
    {
     "data": {
      "text/html": [
       "<div>\n",
       "<style scoped>\n",
       "    .dataframe tbody tr th:only-of-type {\n",
       "        vertical-align: middle;\n",
       "    }\n",
       "\n",
       "    .dataframe tbody tr th {\n",
       "        vertical-align: top;\n",
       "    }\n",
       "\n",
       "    .dataframe thead th {\n",
       "        text-align: right;\n",
       "    }\n",
       "</style>\n",
       "<table border=\"1\" class=\"dataframe\">\n",
       "  <thead>\n",
       "    <tr style=\"text-align: right;\">\n",
       "      <th></th>\n",
       "      <th>ID</th>\n",
       "      <th>Joke</th>\n",
       "    </tr>\n",
       "  </thead>\n",
       "  <tbody>\n",
       "    <tr>\n",
       "      <th>0</th>\n",
       "      <td>1</td>\n",
       "      <td>What did the bartender say to the jumper cable...</td>\n",
       "    </tr>\n",
       "    <tr>\n",
       "      <th>1</th>\n",
       "      <td>2</td>\n",
       "      <td>Don't you hate jokes about German sausage? The...</td>\n",
       "    </tr>\n",
       "    <tr>\n",
       "      <th>2</th>\n",
       "      <td>3</td>\n",
       "      <td>Two artists had an art contest... It ended in ...</td>\n",
       "    </tr>\n",
       "    <tr>\n",
       "      <th>3</th>\n",
       "      <td>4</td>\n",
       "      <td>Why did the chicken cross the playground? To g...</td>\n",
       "    </tr>\n",
       "    <tr>\n",
       "      <th>4</th>\n",
       "      <td>5</td>\n",
       "      <td>What gun do you use to hunt a moose? A moosecut!</td>\n",
       "    </tr>\n",
       "    <tr>\n",
       "      <th>...</th>\n",
       "      <td>...</td>\n",
       "      <td>...</td>\n",
       "    </tr>\n",
       "    <tr>\n",
       "      <th>1617</th>\n",
       "      <td>1618</td>\n",
       "      <td>What do you call a camel with 3 humps? Humphre...</td>\n",
       "    </tr>\n",
       "    <tr>\n",
       "      <th>1618</th>\n",
       "      <td>1619</td>\n",
       "      <td>Two fish in a tank. [x-post from r/Jokes] One ...</td>\n",
       "    </tr>\n",
       "    <tr>\n",
       "      <th>1619</th>\n",
       "      <td>1620</td>\n",
       "      <td>\"Stay strong!\" I said to my wi-fi signal.</td>\n",
       "    </tr>\n",
       "    <tr>\n",
       "      <th>1620</th>\n",
       "      <td>1621</td>\n",
       "      <td>Why was the tomato blushing? Because it saw th...</td>\n",
       "    </tr>\n",
       "    <tr>\n",
       "      <th>1621</th>\n",
       "      <td>1622</td>\n",
       "      <td>What is heavy forward but not backward? **ton**</td>\n",
       "    </tr>\n",
       "  </tbody>\n",
       "</table>\n",
       "<p>1622 rows × 2 columns</p>\n",
       "</div>"
      ],
      "text/plain": [
       "        ID                                               Joke\n",
       "0        1  What did the bartender say to the jumper cable...\n",
       "1        2  Don't you hate jokes about German sausage? The...\n",
       "2        3  Two artists had an art contest... It ended in ...\n",
       "3        4  Why did the chicken cross the playground? To g...\n",
       "4        5   What gun do you use to hunt a moose? A moosecut!\n",
       "...    ...                                                ...\n",
       "1617  1618  What do you call a camel with 3 humps? Humphre...\n",
       "1618  1619  Two fish in a tank. [x-post from r/Jokes] One ...\n",
       "1619  1620          \"Stay strong!\" I said to my wi-fi signal.\n",
       "1620  1621  Why was the tomato blushing? Because it saw th...\n",
       "1621  1622    What is heavy forward but not backward? **ton**\n",
       "\n",
       "[1622 rows x 2 columns]"
      ]
     },
     "execution_count": 3,
     "metadata": {},
     "output_type": "execute_result"
    }
   ],
   "source": [
    "df.drop_duplicates()"
   ]
  },
  {
   "cell_type": "markdown",
   "id": "1b1f0542",
   "metadata": {},
   "source": [
    "### Lowercase"
   ]
  },
  {
   "cell_type": "markdown",
   "id": "eb5e086f",
   "metadata": {},
   "source": [
    "Before we start processing, we need to lowercase strings. If we do not do it, our model will think that \"Book\" and \"book\" are different words, and it will mess with our model and add more unnecessary dimensions to it."
   ]
  },
  {
   "cell_type": "code",
   "execution_count": 4,
   "id": "b61a719d",
   "metadata": {
    "ExecuteTime": {
     "end_time": "2022-07-27T12:54:33.268775Z",
     "start_time": "2022-07-27T12:54:33.225053Z"
    }
   },
   "outputs": [
    {
     "data": {
      "text/html": [
       "<div>\n",
       "<style scoped>\n",
       "    .dataframe tbody tr th:only-of-type {\n",
       "        vertical-align: middle;\n",
       "    }\n",
       "\n",
       "    .dataframe tbody tr th {\n",
       "        vertical-align: top;\n",
       "    }\n",
       "\n",
       "    .dataframe thead th {\n",
       "        text-align: right;\n",
       "    }\n",
       "</style>\n",
       "<table border=\"1\" class=\"dataframe\">\n",
       "  <thead>\n",
       "    <tr style=\"text-align: right;\">\n",
       "      <th></th>\n",
       "      <th>ID</th>\n",
       "      <th>Joke</th>\n",
       "    </tr>\n",
       "  </thead>\n",
       "  <tbody>\n",
       "    <tr>\n",
       "      <th>0</th>\n",
       "      <td>1</td>\n",
       "      <td>what did the bartender say to the jumper cable...</td>\n",
       "    </tr>\n",
       "    <tr>\n",
       "      <th>1</th>\n",
       "      <td>2</td>\n",
       "      <td>don't you hate jokes about german sausage? the...</td>\n",
       "    </tr>\n",
       "    <tr>\n",
       "      <th>2</th>\n",
       "      <td>3</td>\n",
       "      <td>two artists had an art contest... it ended in ...</td>\n",
       "    </tr>\n",
       "    <tr>\n",
       "      <th>3</th>\n",
       "      <td>4</td>\n",
       "      <td>why did the chicken cross the playground? to g...</td>\n",
       "    </tr>\n",
       "    <tr>\n",
       "      <th>4</th>\n",
       "      <td>5</td>\n",
       "      <td>what gun do you use to hunt a moose? a moosecut!</td>\n",
       "    </tr>\n",
       "  </tbody>\n",
       "</table>\n",
       "</div>"
      ],
      "text/plain": [
       "   ID                                               Joke\n",
       "0   1  what did the bartender say to the jumper cable...\n",
       "1   2  don't you hate jokes about german sausage? the...\n",
       "2   3  two artists had an art contest... it ended in ...\n",
       "3   4  why did the chicken cross the playground? to g...\n",
       "4   5   what gun do you use to hunt a moose? a moosecut!"
      ]
     },
     "execution_count": 4,
     "metadata": {},
     "output_type": "execute_result"
    }
   ],
   "source": [
    "df['Joke'] = df['Joke'].str.lower()\n",
    "df.head()"
   ]
  },
  {
   "cell_type": "markdown",
   "id": "bf28de97",
   "metadata": {},
   "source": [
    "### Dropping stop words"
   ]
  },
  {
   "cell_type": "markdown",
   "id": "12fa6b27",
   "metadata": {},
   "source": [
    "When we need to focus on some important information, but not on the sense of whole sentence, we filter the most often met words. The stop words are prepositions, auxiliary verbs and other. You can print them and look through the list."
   ]
  },
  {
   "cell_type": "code",
   "execution_count": 5,
   "id": "dca19f52",
   "metadata": {
    "ExecuteTime": {
     "end_time": "2022-07-27T12:54:36.754151Z",
     "start_time": "2022-07-27T12:54:34.840394Z"
    }
   },
   "outputs": [],
   "source": [
    "from nltk.corpus import stopwords"
   ]
  },
  {
   "cell_type": "code",
   "execution_count": 6,
   "id": "43d52274",
   "metadata": {
    "ExecuteTime": {
     "end_time": "2022-07-27T12:54:36.790868Z",
     "start_time": "2022-07-27T12:54:36.766204Z"
    }
   },
   "outputs": [],
   "source": [
    "stop_words = set(stopwords.words('english')) "
   ]
  },
  {
   "cell_type": "code",
   "execution_count": 7,
   "id": "ded6ea47",
   "metadata": {
    "ExecuteTime": {
     "end_time": "2022-07-27T12:54:36.849205Z",
     "start_time": "2022-07-27T12:54:36.805222Z"
    }
   },
   "outputs": [],
   "source": [
    "def drop_stopwords(s):\n",
    "    return ' '.join([i for i in s.split() if i not in stop_words])"
   ]
  },
  {
   "cell_type": "code",
   "execution_count": 8,
   "id": "b730dbaf",
   "metadata": {
    "ExecuteTime": {
     "end_time": "2022-07-27T12:54:36.952718Z",
     "start_time": "2022-07-27T12:54:36.868222Z"
    }
   },
   "outputs": [
    {
     "data": {
      "text/html": [
       "<div>\n",
       "<style scoped>\n",
       "    .dataframe tbody tr th:only-of-type {\n",
       "        vertical-align: middle;\n",
       "    }\n",
       "\n",
       "    .dataframe tbody tr th {\n",
       "        vertical-align: top;\n",
       "    }\n",
       "\n",
       "    .dataframe thead th {\n",
       "        text-align: right;\n",
       "    }\n",
       "</style>\n",
       "<table border=\"1\" class=\"dataframe\">\n",
       "  <thead>\n",
       "    <tr style=\"text-align: right;\">\n",
       "      <th></th>\n",
       "      <th>ID</th>\n",
       "      <th>Joke</th>\n",
       "    </tr>\n",
       "  </thead>\n",
       "  <tbody>\n",
       "    <tr>\n",
       "      <th>0</th>\n",
       "      <td>1</td>\n",
       "      <td>bartender say jumper cables? better try start ...</td>\n",
       "    </tr>\n",
       "    <tr>\n",
       "      <th>1</th>\n",
       "      <td>2</td>\n",
       "      <td>hate jokes german sausage? they're wurst!</td>\n",
       "    </tr>\n",
       "    <tr>\n",
       "      <th>2</th>\n",
       "      <td>3</td>\n",
       "      <td>two artists art contest... ended draw</td>\n",
       "    </tr>\n",
       "    <tr>\n",
       "      <th>3</th>\n",
       "      <td>4</td>\n",
       "      <td>chicken cross playground? get slide.</td>\n",
       "    </tr>\n",
       "    <tr>\n",
       "      <th>4</th>\n",
       "      <td>5</td>\n",
       "      <td>gun use hunt moose? moosecut!</td>\n",
       "    </tr>\n",
       "  </tbody>\n",
       "</table>\n",
       "</div>"
      ],
      "text/plain": [
       "   ID                                               Joke\n",
       "0   1  bartender say jumper cables? better try start ...\n",
       "1   2          hate jokes german sausage? they're wurst!\n",
       "2   3              two artists art contest... ended draw\n",
       "3   4               chicken cross playground? get slide.\n",
       "4   5                      gun use hunt moose? moosecut!"
      ]
     },
     "execution_count": 8,
     "metadata": {},
     "output_type": "execute_result"
    }
   ],
   "source": [
    "df['Joke'] = df['Joke'].map(drop_stopwords)\n",
    "df.head()"
   ]
  },
  {
   "cell_type": "markdown",
   "id": "ce58cb00",
   "metadata": {},
   "source": [
    "### Lemmatization"
   ]
  },
  {
   "cell_type": "markdown",
   "id": "c36d9d7c",
   "metadata": {},
   "source": [
    "Now, if we want to not only to remove stop words, but also to get the root forms of the words - we use lemmatizers. Lemmatizer uses a word corpus *(here WordNet)* and returns root form of a word if it knows it, otherwise - returns the same word. There are different kinds of it, here is one to play with. For better task resolution sometimes it is better to define also a part of the speech. This algorithm is slower than stemming."
   ]
  },
  {
   "cell_type": "code",
   "execution_count": 9,
   "id": "fed8c9b9",
   "metadata": {
    "ExecuteTime": {
     "end_time": "2022-07-27T12:54:39.922679Z",
     "start_time": "2022-07-27T12:54:39.911821Z"
    }
   },
   "outputs": [],
   "source": [
    "from nltk.stem import WordNetLemmatizer "
   ]
  },
  {
   "cell_type": "code",
   "execution_count": 10,
   "id": "cd86915e",
   "metadata": {
    "ExecuteTime": {
     "end_time": "2022-07-27T12:54:40.527134Z",
     "start_time": "2022-07-27T12:54:40.513797Z"
    }
   },
   "outputs": [],
   "source": [
    "lemmatizer = WordNetLemmatizer()"
   ]
  },
  {
   "cell_type": "code",
   "execution_count": 11,
   "id": "f6b6e069",
   "metadata": {
    "ExecuteTime": {
     "end_time": "2022-07-27T12:54:40.946173Z",
     "start_time": "2022-07-27T12:54:40.933948Z"
    }
   },
   "outputs": [],
   "source": [
    "def lemmatize_str(s):\n",
    "    return ' '.join([lemmatizer.lemmatize(i) for i in s.split()])"
   ]
  },
  {
   "cell_type": "code",
   "execution_count": 12,
   "id": "9b06b867",
   "metadata": {
    "ExecuteTime": {
     "end_time": "2022-07-27T12:54:47.405496Z",
     "start_time": "2022-07-27T12:54:41.435868Z"
    }
   },
   "outputs": [
    {
     "data": {
      "text/html": [
       "<div>\n",
       "<style scoped>\n",
       "    .dataframe tbody tr th:only-of-type {\n",
       "        vertical-align: middle;\n",
       "    }\n",
       "\n",
       "    .dataframe tbody tr th {\n",
       "        vertical-align: top;\n",
       "    }\n",
       "\n",
       "    .dataframe thead th {\n",
       "        text-align: right;\n",
       "    }\n",
       "</style>\n",
       "<table border=\"1\" class=\"dataframe\">\n",
       "  <thead>\n",
       "    <tr style=\"text-align: right;\">\n",
       "      <th></th>\n",
       "      <th>ID</th>\n",
       "      <th>Joke</th>\n",
       "    </tr>\n",
       "  </thead>\n",
       "  <tbody>\n",
       "    <tr>\n",
       "      <th>0</th>\n",
       "      <td>1</td>\n",
       "      <td>bartender say jumper cables? better try start ...</td>\n",
       "    </tr>\n",
       "    <tr>\n",
       "      <th>1</th>\n",
       "      <td>2</td>\n",
       "      <td>hate joke german sausage? they're wurst!</td>\n",
       "    </tr>\n",
       "    <tr>\n",
       "      <th>2</th>\n",
       "      <td>3</td>\n",
       "      <td>two artist art contest... ended draw</td>\n",
       "    </tr>\n",
       "    <tr>\n",
       "      <th>3</th>\n",
       "      <td>4</td>\n",
       "      <td>chicken cross playground? get slide.</td>\n",
       "    </tr>\n",
       "    <tr>\n",
       "      <th>4</th>\n",
       "      <td>5</td>\n",
       "      <td>gun use hunt moose? moosecut!</td>\n",
       "    </tr>\n",
       "  </tbody>\n",
       "</table>\n",
       "</div>"
      ],
      "text/plain": [
       "   ID                                               Joke\n",
       "0   1  bartender say jumper cables? better try start ...\n",
       "1   2           hate joke german sausage? they're wurst!\n",
       "2   3               two artist art contest... ended draw\n",
       "3   4               chicken cross playground? get slide.\n",
       "4   5                      gun use hunt moose? moosecut!"
      ]
     },
     "execution_count": 12,
     "metadata": {},
     "output_type": "execute_result"
    }
   ],
   "source": [
    "df['Joke'] = df['Joke'].map(lemmatize_str)\n",
    "df.head()"
   ]
  },
  {
   "cell_type": "markdown",
   "id": "00d94473",
   "metadata": {},
   "source": [
    "### Stemming"
   ]
  },
  {
   "cell_type": "markdown",
   "id": "1b198210",
   "metadata": {},
   "source": [
    "Stemming like lemmatizer changes words, only it has another algorithm behind and it mostly trims endings. The words after this operation can be *not real words* meaning that they can be without a letter in the end or something like that. Due to this difference it is faster than lemmatization."
   ]
  },
  {
   "cell_type": "code",
   "execution_count": 13,
   "id": "ce0fdbdd",
   "metadata": {
    "ExecuteTime": {
     "end_time": "2022-07-27T12:54:47.433185Z",
     "start_time": "2022-07-27T12:54:47.418418Z"
    }
   },
   "outputs": [],
   "source": [
    "from nltk.stem.snowball import SnowballStemmer"
   ]
  },
  {
   "cell_type": "code",
   "execution_count": 14,
   "id": "49391b6f",
   "metadata": {
    "ExecuteTime": {
     "end_time": "2022-07-27T12:54:47.460561Z",
     "start_time": "2022-07-27T12:54:47.444281Z"
    }
   },
   "outputs": [],
   "source": [
    "stemmer = SnowballStemmer(\"english\")"
   ]
  },
  {
   "cell_type": "code",
   "execution_count": 15,
   "id": "44f37e26",
   "metadata": {
    "ExecuteTime": {
     "end_time": "2022-07-27T12:54:47.504830Z",
     "start_time": "2022-07-27T12:54:47.478236Z"
    }
   },
   "outputs": [],
   "source": [
    "def stem_str(s):\n",
    "    return ' '.join([stemmer.stem(i) for i in s.split()])"
   ]
  },
  {
   "cell_type": "code",
   "execution_count": 16,
   "id": "bc5b4e1c",
   "metadata": {
    "ExecuteTime": {
     "end_time": "2022-07-27T12:54:48.424758Z",
     "start_time": "2022-07-27T12:54:47.528809Z"
    }
   },
   "outputs": [
    {
     "data": {
      "text/html": [
       "<div>\n",
       "<style scoped>\n",
       "    .dataframe tbody tr th:only-of-type {\n",
       "        vertical-align: middle;\n",
       "    }\n",
       "\n",
       "    .dataframe tbody tr th {\n",
       "        vertical-align: top;\n",
       "    }\n",
       "\n",
       "    .dataframe thead th {\n",
       "        text-align: right;\n",
       "    }\n",
       "</style>\n",
       "<table border=\"1\" class=\"dataframe\">\n",
       "  <thead>\n",
       "    <tr style=\"text-align: right;\">\n",
       "      <th></th>\n",
       "      <th>ID</th>\n",
       "      <th>Joke</th>\n",
       "    </tr>\n",
       "  </thead>\n",
       "  <tbody>\n",
       "    <tr>\n",
       "      <th>0</th>\n",
       "      <td>1</td>\n",
       "      <td>bartend say jumper cables? better tri start an...</td>\n",
       "    </tr>\n",
       "    <tr>\n",
       "      <th>1</th>\n",
       "      <td>2</td>\n",
       "      <td>hate joke german sausage? they'r wurst!</td>\n",
       "    </tr>\n",
       "    <tr>\n",
       "      <th>2</th>\n",
       "      <td>3</td>\n",
       "      <td>two artist art contest... end draw</td>\n",
       "    </tr>\n",
       "    <tr>\n",
       "      <th>3</th>\n",
       "      <td>4</td>\n",
       "      <td>chicken cross playground? get slide.</td>\n",
       "    </tr>\n",
       "    <tr>\n",
       "      <th>4</th>\n",
       "      <td>5</td>\n",
       "      <td>gun use hunt moose? moosecut!</td>\n",
       "    </tr>\n",
       "  </tbody>\n",
       "</table>\n",
       "</div>"
      ],
      "text/plain": [
       "   ID                                               Joke\n",
       "0   1  bartend say jumper cables? better tri start an...\n",
       "1   2            hate joke german sausage? they'r wurst!\n",
       "2   3                 two artist art contest... end draw\n",
       "3   4               chicken cross playground? get slide.\n",
       "4   5                      gun use hunt moose? moosecut!"
      ]
     },
     "execution_count": 16,
     "metadata": {},
     "output_type": "execute_result"
    }
   ],
   "source": [
    "df['Joke'] = df['Joke'].map(stem_str)\n",
    "df.head()"
   ]
  },
  {
   "cell_type": "markdown",
   "id": "a3299557",
   "metadata": {},
   "source": [
    "### Bad unicode"
   ]
  },
  {
   "cell_type": "markdown",
   "id": "df6c7801",
   "metadata": {},
   "source": [
    "There are also cases when the dataset contains HTML entities or encoding mixups and you need to fix them - the library ftfy (fixes text for you) comes to help:"
   ]
  },
  {
   "cell_type": "code",
   "execution_count": 17,
   "id": "21bb5fff",
   "metadata": {
    "ExecuteTime": {
     "end_time": "2022-07-27T13:15:34.632098Z",
     "start_time": "2022-07-27T13:15:34.386126Z"
    }
   },
   "outputs": [],
   "source": [
    "import ftfy"
   ]
  },
  {
   "cell_type": "code",
   "execution_count": 19,
   "id": "d7b789ae",
   "metadata": {
    "ExecuteTime": {
     "end_time": "2022-07-27T13:18:10.825372Z",
     "start_time": "2022-07-27T13:18:10.804436Z"
    }
   },
   "outputs": [
    {
     "data": {
      "text/plain": [
       "\"Don't do it!\""
      ]
     },
     "execution_count": 19,
     "metadata": {},
     "output_type": "execute_result"
    }
   ],
   "source": [
    "text = 'DonÃƒÂ¢Ã¢â€šÂ¬Ã¢â€žÂ¢t do it!'\n",
    "fixed_text = ftfy.fix_text(text)\n",
    "fixed_text"
   ]
  },
  {
   "cell_type": "markdown",
   "id": "c2160281",
   "metadata": {},
   "source": [
    "### Conclusion"
   ]
  },
  {
   "cell_type": "markdown",
   "id": "0c02de04",
   "metadata": {},
   "source": [
    "These were only some examples of how you can preprocess and clean your data. I have shown them separately, but for better performance and cleaner code you should unite all needed operations into one method and map dataframe rows to it instead. For example stop words with lemmatization can be done in one list comprehension easily. \n",
    "\n",
    "Remember, that not always you need to filter stop words, lemmatize or stem your texts. It depends on the task. \n",
    "Good luck!"
   ]
  },
  {
   "cell_type": "code",
   "execution_count": null,
   "id": "3087903a",
   "metadata": {},
   "outputs": [],
   "source": []
  }
 ],
 "metadata": {
  "kernelspec": {
   "display_name": "Python 3 (ipykernel)",
   "language": "python",
   "name": "python3"
  },
  "language_info": {
   "codemirror_mode": {
    "name": "ipython",
    "version": 3
   },
   "file_extension": ".py",
   "mimetype": "text/x-python",
   "name": "python",
   "nbconvert_exporter": "python",
   "pygments_lexer": "ipython3",
   "version": "3.7.11"
  }
 },
 "nbformat": 4,
 "nbformat_minor": 5
}
